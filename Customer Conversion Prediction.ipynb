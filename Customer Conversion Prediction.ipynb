{
 "cells": [
  {
   "cell_type": "markdown",
   "id": "afc63408",
   "metadata": {},
   "source": [
    "# Customer Conversion Prediction"
   ]
  },
  {
   "cell_type": "markdown",
   "id": "a937dbb6",
   "metadata": {},
   "source": [
    "# Project Goal"
   ]
  },
  {
   "cell_type": "markdown",
   "id": "ffebe67f",
   "metadata": {},
   "source": [
    "You are working for a new-age insurance company and employ mutiple outreach plans to sell term insurance to your customers. Telephonic marketing campaigns still remain one of the most effective way to reach out to people however they incur a lot of cost. Hence, it is important to identify the customers that are most likely to convert beforehand so that they can be specifically targeted via call. We are given the historical marketing data of the insurance company and are required to build a ML model that will predict if a client will subscribe to the insurance."
   ]
  },
  {
   "cell_type": "code",
   "execution_count": 1,
   "id": "32bf9f95",
   "metadata": {},
   "outputs": [],
   "source": [
    "## Load Modules/ Libraries\n",
    "\n",
    "import numpy as np\n",
    "import pandas as pd\n",
    "import matplotlib.pyplot as plt\n",
    "import seaborn as sns\n",
    "from sklearn.preprocessing import OneHotEncoder\n",
    "from sklearn.model_selection import train_test_split\n",
    "from sklearn.preprocessing import StandardScaler"
   ]
  },
  {
   "cell_type": "code",
   "execution_count": 2,
   "id": "b0103b2a",
   "metadata": {},
   "outputs": [
    {
     "name": "stdout",
     "output_type": "stream",
     "text": [
      "Shape of data: (45211, 11)\n"
     ]
    }
   ],
   "source": [
    "# Importing the data\n",
    "df = pd.read_csv(\"train.csv\")\n",
    "\n",
    "print(\"Shape of data:\", df.shape)"
   ]
  },
  {
   "cell_type": "code",
   "execution_count": 3,
   "id": "a066759b",
   "metadata": {},
   "outputs": [
    {
     "data": {
      "text/html": [
       "<div>\n",
       "<style scoped>\n",
       "    .dataframe tbody tr th:only-of-type {\n",
       "        vertical-align: middle;\n",
       "    }\n",
       "\n",
       "    .dataframe tbody tr th {\n",
       "        vertical-align: top;\n",
       "    }\n",
       "\n",
       "    .dataframe thead th {\n",
       "        text-align: right;\n",
       "    }\n",
       "</style>\n",
       "<table border=\"1\" class=\"dataframe\">\n",
       "  <thead>\n",
       "    <tr style=\"text-align: right;\">\n",
       "      <th></th>\n",
       "      <th>age</th>\n",
       "      <th>job</th>\n",
       "      <th>marital</th>\n",
       "      <th>education_qual</th>\n",
       "      <th>call_type</th>\n",
       "      <th>day</th>\n",
       "      <th>mon</th>\n",
       "      <th>dur</th>\n",
       "      <th>num_calls</th>\n",
       "      <th>prev_outcome</th>\n",
       "      <th>y</th>\n",
       "    </tr>\n",
       "  </thead>\n",
       "  <tbody>\n",
       "    <tr>\n",
       "      <th>0</th>\n",
       "      <td>58</td>\n",
       "      <td>management</td>\n",
       "      <td>married</td>\n",
       "      <td>tertiary</td>\n",
       "      <td>unknown</td>\n",
       "      <td>5</td>\n",
       "      <td>may</td>\n",
       "      <td>261</td>\n",
       "      <td>1</td>\n",
       "      <td>unknown</td>\n",
       "      <td>no</td>\n",
       "    </tr>\n",
       "    <tr>\n",
       "      <th>1</th>\n",
       "      <td>44</td>\n",
       "      <td>technician</td>\n",
       "      <td>single</td>\n",
       "      <td>secondary</td>\n",
       "      <td>unknown</td>\n",
       "      <td>5</td>\n",
       "      <td>may</td>\n",
       "      <td>151</td>\n",
       "      <td>1</td>\n",
       "      <td>unknown</td>\n",
       "      <td>no</td>\n",
       "    </tr>\n",
       "    <tr>\n",
       "      <th>2</th>\n",
       "      <td>33</td>\n",
       "      <td>entrepreneur</td>\n",
       "      <td>married</td>\n",
       "      <td>secondary</td>\n",
       "      <td>unknown</td>\n",
       "      <td>5</td>\n",
       "      <td>may</td>\n",
       "      <td>76</td>\n",
       "      <td>1</td>\n",
       "      <td>unknown</td>\n",
       "      <td>no</td>\n",
       "    </tr>\n",
       "    <tr>\n",
       "      <th>3</th>\n",
       "      <td>47</td>\n",
       "      <td>blue-collar</td>\n",
       "      <td>married</td>\n",
       "      <td>unknown</td>\n",
       "      <td>unknown</td>\n",
       "      <td>5</td>\n",
       "      <td>may</td>\n",
       "      <td>92</td>\n",
       "      <td>1</td>\n",
       "      <td>unknown</td>\n",
       "      <td>no</td>\n",
       "    </tr>\n",
       "    <tr>\n",
       "      <th>4</th>\n",
       "      <td>33</td>\n",
       "      <td>unknown</td>\n",
       "      <td>single</td>\n",
       "      <td>unknown</td>\n",
       "      <td>unknown</td>\n",
       "      <td>5</td>\n",
       "      <td>may</td>\n",
       "      <td>198</td>\n",
       "      <td>1</td>\n",
       "      <td>unknown</td>\n",
       "      <td>no</td>\n",
       "    </tr>\n",
       "  </tbody>\n",
       "</table>\n",
       "</div>"
      ],
      "text/plain": [
       "   age           job  marital education_qual call_type  day  mon  dur  \\\n",
       "0   58    management  married       tertiary   unknown    5  may  261   \n",
       "1   44    technician   single      secondary   unknown    5  may  151   \n",
       "2   33  entrepreneur  married      secondary   unknown    5  may   76   \n",
       "3   47   blue-collar  married        unknown   unknown    5  may   92   \n",
       "4   33       unknown   single        unknown   unknown    5  may  198   \n",
       "\n",
       "   num_calls prev_outcome   y  \n",
       "0          1      unknown  no  \n",
       "1          1      unknown  no  \n",
       "2          1      unknown  no  \n",
       "3          1      unknown  no  \n",
       "4          1      unknown  no  "
      ]
     },
     "execution_count": 3,
     "metadata": {},
     "output_type": "execute_result"
    }
   ],
   "source": [
    "df.head(5)"
   ]
  },
  {
   "cell_type": "markdown",
   "id": "6b8460c3",
   "metadata": {},
   "source": [
    "# Data Pre - Processing"
   ]
  },
  {
   "cell_type": "code",
   "execution_count": 4,
   "id": "b21cdeb7",
   "metadata": {},
   "outputs": [
    {
     "name": "stdout",
     "output_type": "stream",
     "text": [
      "<class 'pandas.core.frame.DataFrame'>\n",
      "RangeIndex: 45211 entries, 0 to 45210\n",
      "Data columns (total 11 columns):\n",
      " #   Column          Non-Null Count  Dtype \n",
      "---  ------          --------------  ----- \n",
      " 0   age             45211 non-null  int64 \n",
      " 1   job             45211 non-null  object\n",
      " 2   marital         45211 non-null  object\n",
      " 3   education_qual  45211 non-null  object\n",
      " 4   call_type       45211 non-null  object\n",
      " 5   day             45211 non-null  int64 \n",
      " 6   mon             45211 non-null  object\n",
      " 7   dur             45211 non-null  int64 \n",
      " 8   num_calls       45211 non-null  int64 \n",
      " 9   prev_outcome    45211 non-null  object\n",
      " 10  y               45211 non-null  object\n",
      "dtypes: int64(4), object(7)\n",
      "memory usage: 3.8+ MB\n"
     ]
    }
   ],
   "source": [
    "df.info()"
   ]
  },
  {
   "cell_type": "code",
   "execution_count": 5,
   "id": "459268ee",
   "metadata": {},
   "outputs": [
    {
     "data": {
      "text/plain": [
       "age               0\n",
       "job               0\n",
       "marital           0\n",
       "education_qual    0\n",
       "call_type         0\n",
       "day               0\n",
       "mon               0\n",
       "dur               0\n",
       "num_calls         0\n",
       "prev_outcome      0\n",
       "y                 0\n",
       "dtype: int64"
      ]
     },
     "execution_count": 5,
     "metadata": {},
     "output_type": "execute_result"
    }
   ],
   "source": [
    "## Checking for Null values\n",
    "df.isnull().sum()"
   ]
  },
  {
   "cell_type": "code",
   "execution_count": 6,
   "id": "55696abd",
   "metadata": {},
   "outputs": [
    {
     "data": {
      "text/html": [
       "<div>\n",
       "<style scoped>\n",
       "    .dataframe tbody tr th:only-of-type {\n",
       "        vertical-align: middle;\n",
       "    }\n",
       "\n",
       "    .dataframe tbody tr th {\n",
       "        vertical-align: top;\n",
       "    }\n",
       "\n",
       "    .dataframe thead th {\n",
       "        text-align: right;\n",
       "    }\n",
       "</style>\n",
       "<table border=\"1\" class=\"dataframe\">\n",
       "  <thead>\n",
       "    <tr style=\"text-align: right;\">\n",
       "      <th></th>\n",
       "      <th>age</th>\n",
       "      <th>day</th>\n",
       "      <th>dur</th>\n",
       "      <th>num_calls</th>\n",
       "    </tr>\n",
       "  </thead>\n",
       "  <tbody>\n",
       "    <tr>\n",
       "      <th>count</th>\n",
       "      <td>45211.000000</td>\n",
       "      <td>45211.000000</td>\n",
       "      <td>45211.000000</td>\n",
       "      <td>45211.000000</td>\n",
       "    </tr>\n",
       "    <tr>\n",
       "      <th>mean</th>\n",
       "      <td>40.936210</td>\n",
       "      <td>15.806419</td>\n",
       "      <td>258.163080</td>\n",
       "      <td>2.763841</td>\n",
       "    </tr>\n",
       "    <tr>\n",
       "      <th>std</th>\n",
       "      <td>10.618762</td>\n",
       "      <td>8.322476</td>\n",
       "      <td>257.527812</td>\n",
       "      <td>3.098021</td>\n",
       "    </tr>\n",
       "    <tr>\n",
       "      <th>min</th>\n",
       "      <td>18.000000</td>\n",
       "      <td>1.000000</td>\n",
       "      <td>0.000000</td>\n",
       "      <td>1.000000</td>\n",
       "    </tr>\n",
       "    <tr>\n",
       "      <th>25%</th>\n",
       "      <td>33.000000</td>\n",
       "      <td>8.000000</td>\n",
       "      <td>103.000000</td>\n",
       "      <td>1.000000</td>\n",
       "    </tr>\n",
       "    <tr>\n",
       "      <th>50%</th>\n",
       "      <td>39.000000</td>\n",
       "      <td>16.000000</td>\n",
       "      <td>180.000000</td>\n",
       "      <td>2.000000</td>\n",
       "    </tr>\n",
       "    <tr>\n",
       "      <th>75%</th>\n",
       "      <td>48.000000</td>\n",
       "      <td>21.000000</td>\n",
       "      <td>319.000000</td>\n",
       "      <td>3.000000</td>\n",
       "    </tr>\n",
       "    <tr>\n",
       "      <th>max</th>\n",
       "      <td>95.000000</td>\n",
       "      <td>31.000000</td>\n",
       "      <td>4918.000000</td>\n",
       "      <td>63.000000</td>\n",
       "    </tr>\n",
       "  </tbody>\n",
       "</table>\n",
       "</div>"
      ],
      "text/plain": [
       "                age           day           dur     num_calls\n",
       "count  45211.000000  45211.000000  45211.000000  45211.000000\n",
       "mean      40.936210     15.806419    258.163080      2.763841\n",
       "std       10.618762      8.322476    257.527812      3.098021\n",
       "min       18.000000      1.000000      0.000000      1.000000\n",
       "25%       33.000000      8.000000    103.000000      1.000000\n",
       "50%       39.000000     16.000000    180.000000      2.000000\n",
       "75%       48.000000     21.000000    319.000000      3.000000\n",
       "max       95.000000     31.000000   4918.000000     63.000000"
      ]
     },
     "execution_count": 6,
     "metadata": {},
     "output_type": "execute_result"
    }
   ],
   "source": [
    "df.describe()"
   ]
  },
  {
   "cell_type": "markdown",
   "id": "44838919",
   "metadata": {},
   "source": [
    "We can see there are Outliers for the columns age, dur and num_calls. So we have to remove the outliers."
   ]
  },
  {
   "cell_type": "code",
   "execution_count": 7,
   "id": "088fe419",
   "metadata": {},
   "outputs": [
    {
     "data": {
      "text/plain": [
       "age                int64\n",
       "job               object\n",
       "marital           object\n",
       "education_qual    object\n",
       "call_type         object\n",
       "day                int64\n",
       "mon               object\n",
       "dur                int64\n",
       "num_calls          int64\n",
       "prev_outcome      object\n",
       "y                 object\n",
       "dtype: object"
      ]
     },
     "execution_count": 7,
     "metadata": {},
     "output_type": "execute_result"
    }
   ],
   "source": [
    "df.dtypes"
   ]
  },
  {
   "cell_type": "code",
   "execution_count": 8,
   "id": "4a25f920",
   "metadata": {},
   "outputs": [
    {
     "name": "stdout",
     "output_type": "stream",
     "text": [
      "(45205, 11)\n"
     ]
    }
   ],
   "source": [
    "#Removing the duplicates\n",
    "df = df.drop_duplicates()\n",
    "print(df.shape)"
   ]
  },
  {
   "cell_type": "code",
   "execution_count": 9,
   "id": "1f7b9adf",
   "metadata": {},
   "outputs": [
    {
     "name": "stdout",
     "output_type": "stream",
     "text": [
      "10.5 70.5\n"
     ]
    }
   ],
   "source": [
    "# Checking for the Outliers and removing them\n",
    "iqr = df['age'].quantile(0.75) - df['age'].quantile(0.25)\n",
    "upper_threshold = df['age'].quantile(0.75) + (1.5 * iqr)\n",
    "lower_threshold = df['age'].quantile(0.25) - (1.5 * iqr)\n",
    "print(lower_threshold, upper_threshold)"
   ]
  },
  {
   "cell_type": "code",
   "execution_count": 10,
   "id": "fee9d4bd",
   "metadata": {},
   "outputs": [],
   "source": [
    "df['age'] = df['age'].clip(lower_threshold, upper_threshold)"
   ]
  },
  {
   "cell_type": "code",
   "execution_count": 11,
   "id": "5826275b",
   "metadata": {},
   "outputs": [
    {
     "name": "stdout",
     "output_type": "stream",
     "text": [
      "-221.0 643.0\n"
     ]
    }
   ],
   "source": [
    "iqr = df['dur'].quantile(0.75) - df['dur'].quantile(0.25)\n",
    "upper_threshold = df['dur'].quantile(0.75) + (1.5 * iqr)\n",
    "lower_threshold = df['dur'].quantile(0.25) - (1.5 * iqr)\n",
    "print(lower_threshold, upper_threshold)"
   ]
  },
  {
   "cell_type": "code",
   "execution_count": 12,
   "id": "a6332ed1",
   "metadata": {},
   "outputs": [],
   "source": [
    "df['dur'] = df['dur'].clip(lower_threshold, upper_threshold)"
   ]
  },
  {
   "cell_type": "code",
   "execution_count": 13,
   "id": "f08fab02",
   "metadata": {},
   "outputs": [
    {
     "name": "stdout",
     "output_type": "stream",
     "text": [
      "-2.0 6.0\n"
     ]
    }
   ],
   "source": [
    "iqr = df['num_calls'].quantile(0.75) - df['num_calls'].quantile(0.25)\n",
    "upper_threshold = df['num_calls'].quantile(0.75) + (1.5 * iqr)\n",
    "lower_threshold = df['num_calls'].quantile(0.25) - (1.5 * iqr)\n",
    "print(lower_threshold, upper_threshold)"
   ]
  },
  {
   "cell_type": "code",
   "execution_count": 14,
   "id": "fd02dbef",
   "metadata": {},
   "outputs": [],
   "source": [
    "df['num_calls'] = df['num_calls'].clip(lower_threshold, upper_threshold)"
   ]
  },
  {
   "cell_type": "code",
   "execution_count": 15,
   "id": "2419cb2c",
   "metadata": {},
   "outputs": [],
   "source": [
    "#Label encoding the target variable\n",
    "df.replace({\"y\":{'no':0,'yes':1}},inplace=True)"
   ]
  },
  {
   "cell_type": "code",
   "execution_count": 16,
   "id": "bce7b751",
   "metadata": {},
   "outputs": [
    {
     "data": {
      "text/html": [
       "<div>\n",
       "<style scoped>\n",
       "    .dataframe tbody tr th:only-of-type {\n",
       "        vertical-align: middle;\n",
       "    }\n",
       "\n",
       "    .dataframe tbody tr th {\n",
       "        vertical-align: top;\n",
       "    }\n",
       "\n",
       "    .dataframe thead th {\n",
       "        text-align: right;\n",
       "    }\n",
       "</style>\n",
       "<table border=\"1\" class=\"dataframe\">\n",
       "  <thead>\n",
       "    <tr style=\"text-align: right;\">\n",
       "      <th></th>\n",
       "      <th>age</th>\n",
       "      <th>job</th>\n",
       "      <th>marital</th>\n",
       "      <th>education_qual</th>\n",
       "      <th>call_type</th>\n",
       "      <th>day</th>\n",
       "      <th>mon</th>\n",
       "      <th>dur</th>\n",
       "      <th>num_calls</th>\n",
       "      <th>prev_outcome</th>\n",
       "      <th>y</th>\n",
       "    </tr>\n",
       "  </thead>\n",
       "  <tbody>\n",
       "    <tr>\n",
       "      <th>0</th>\n",
       "      <td>58.0</td>\n",
       "      <td>management</td>\n",
       "      <td>married</td>\n",
       "      <td>tertiary</td>\n",
       "      <td>unknown</td>\n",
       "      <td>5</td>\n",
       "      <td>may</td>\n",
       "      <td>261</td>\n",
       "      <td>1</td>\n",
       "      <td>unknown</td>\n",
       "      <td>0</td>\n",
       "    </tr>\n",
       "    <tr>\n",
       "      <th>1</th>\n",
       "      <td>44.0</td>\n",
       "      <td>technician</td>\n",
       "      <td>single</td>\n",
       "      <td>secondary</td>\n",
       "      <td>unknown</td>\n",
       "      <td>5</td>\n",
       "      <td>may</td>\n",
       "      <td>151</td>\n",
       "      <td>1</td>\n",
       "      <td>unknown</td>\n",
       "      <td>0</td>\n",
       "    </tr>\n",
       "    <tr>\n",
       "      <th>2</th>\n",
       "      <td>33.0</td>\n",
       "      <td>entrepreneur</td>\n",
       "      <td>married</td>\n",
       "      <td>secondary</td>\n",
       "      <td>unknown</td>\n",
       "      <td>5</td>\n",
       "      <td>may</td>\n",
       "      <td>76</td>\n",
       "      <td>1</td>\n",
       "      <td>unknown</td>\n",
       "      <td>0</td>\n",
       "    </tr>\n",
       "    <tr>\n",
       "      <th>3</th>\n",
       "      <td>47.0</td>\n",
       "      <td>blue-collar</td>\n",
       "      <td>married</td>\n",
       "      <td>unknown</td>\n",
       "      <td>unknown</td>\n",
       "      <td>5</td>\n",
       "      <td>may</td>\n",
       "      <td>92</td>\n",
       "      <td>1</td>\n",
       "      <td>unknown</td>\n",
       "      <td>0</td>\n",
       "    </tr>\n",
       "    <tr>\n",
       "      <th>4</th>\n",
       "      <td>33.0</td>\n",
       "      <td>unknown</td>\n",
       "      <td>single</td>\n",
       "      <td>unknown</td>\n",
       "      <td>unknown</td>\n",
       "      <td>5</td>\n",
       "      <td>may</td>\n",
       "      <td>198</td>\n",
       "      <td>1</td>\n",
       "      <td>unknown</td>\n",
       "      <td>0</td>\n",
       "    </tr>\n",
       "  </tbody>\n",
       "</table>\n",
       "</div>"
      ],
      "text/plain": [
       "    age           job  marital education_qual call_type  day  mon  dur  \\\n",
       "0  58.0    management  married       tertiary   unknown    5  may  261   \n",
       "1  44.0    technician   single      secondary   unknown    5  may  151   \n",
       "2  33.0  entrepreneur  married      secondary   unknown    5  may   76   \n",
       "3  47.0   blue-collar  married        unknown   unknown    5  may   92   \n",
       "4  33.0       unknown   single        unknown   unknown    5  may  198   \n",
       "\n",
       "   num_calls prev_outcome  y  \n",
       "0          1      unknown  0  \n",
       "1          1      unknown  0  \n",
       "2          1      unknown  0  \n",
       "3          1      unknown  0  \n",
       "4          1      unknown  0  "
      ]
     },
     "execution_count": 16,
     "metadata": {},
     "output_type": "execute_result"
    }
   ],
   "source": [
    "df.head()"
   ]
  },
  {
   "cell_type": "markdown",
   "id": "0d80f045",
   "metadata": {},
   "source": [
    "# EDA - Data Visualization"
   ]
  },
  {
   "cell_type": "code",
   "execution_count": 17,
   "id": "bb41f454",
   "metadata": {},
   "outputs": [
    {
     "data": {
      "text/plain": [
       "blue-collar      9730\n",
       "management       9457\n",
       "technician       7596\n",
       "admin.           5170\n",
       "services         4153\n",
       "retired          2264\n",
       "self-employed    1579\n",
       "entrepreneur     1487\n",
       "unemployed       1303\n",
       "housemaid        1240\n",
       "student           938\n",
       "unknown           288\n",
       "Name: job, dtype: int64"
      ]
     },
     "execution_count": 17,
     "metadata": {},
     "output_type": "execute_result"
    }
   ],
   "source": [
    "df['job'].value_counts()"
   ]
  },
  {
   "cell_type": "markdown",
   "id": "0c84a008",
   "metadata": {},
   "source": [
    "We can see there are 288 unkown variables in the Job column which consider as less percentage. So moving forware we impute the unknown values with mode value of the Job Column"
   ]
  },
  {
   "cell_type": "code",
   "execution_count": 18,
   "id": "d951bab5",
   "metadata": {},
   "outputs": [
    {
     "data": {
      "text/plain": [
       "<AxesSubplot: xlabel='job', ylabel='count'>"
      ]
     },
     "execution_count": 18,
     "metadata": {},
     "output_type": "execute_result"
    },
    {
     "data": {
      "image/png": "[encoded data removed]",
      "text/plain": [
       "<Figure size 1500x500 with 1 Axes>"
      ]
     },
     "metadata": {},
     "output_type": "display_data"
    }
   ],
   "source": [
    "#Job vs Target Variable\n",
    "plt.figure(figsize=(15, 5))\n",
    "sns.countplot(x='job',hue='y',data=df)"
   ]
  },
  {
   "cell_type": "code",
   "execution_count": 19,
   "id": "02093b6f",
   "metadata": {},
   "outputs": [
    {
     "data": {
      "text/plain": [
       "0    blue-collar\n",
       "Name: job, dtype: object"
      ]
     },
     "execution_count": 19,
     "metadata": {},
     "output_type": "execute_result"
    }
   ],
   "source": [
    "df[\"job\"].mode()"
   ]
  },
  {
   "cell_type": "code",
   "execution_count": 20,
   "id": "ed34eaba",
   "metadata": {},
   "outputs": [],
   "source": [
    "df[\"job\"] = df[\"job\"].replace(\"unknown\", \"blue-collar\")"
   ]
  },
  {
   "cell_type": "code",
   "execution_count": 21,
   "id": "f6a972ea",
   "metadata": {},
   "outputs": [
    {
     "data": {
      "text/plain": [
       "<AxesSubplot: ylabel='job'>"
      ]
     },
     "execution_count": 21,
     "metadata": {},
     "output_type": "execute_result"
    },
    {
     "data": {
      "image/png": "[encoded data removed]",
      "text/plain": [
       "<Figure size 640x480 with 1 Axes>"
      ]
     },
     "metadata": {},
     "output_type": "display_data"
    }
   ],
   "source": [
    "df.groupby('job')['y'].mean().sort_values().plot(kind='barh')"
   ]
  },
  {
   "cell_type": "markdown",
   "id": "ebb19f37",
   "metadata": {},
   "source": [
    "The following graph show conversion rate of the customer with regarding the their Job. As we can see that the customer who claim the insurance where belongs to student category and low conversion are from blue-collar. But the insurance company contacted the customers who belongs to Blue-collar."
   ]
  },
  {
   "cell_type": "code",
   "execution_count": 22,
   "id": "30319624",
   "metadata": {},
   "outputs": [
    {
     "data": {
      "text/html": [
       "<div>\n",
       "<style scoped>\n",
       "    .dataframe tbody tr th:only-of-type {\n",
       "        vertical-align: middle;\n",
       "    }\n",
       "\n",
       "    .dataframe tbody tr th {\n",
       "        vertical-align: top;\n",
       "    }\n",
       "\n",
       "    .dataframe thead th {\n",
       "        text-align: right;\n",
       "    }\n",
       "</style>\n",
       "<table border=\"1\" class=\"dataframe\">\n",
       "  <thead>\n",
       "    <tr style=\"text-align: right;\">\n",
       "      <th></th>\n",
       "      <th>age</th>\n",
       "      <th>job</th>\n",
       "      <th>marital</th>\n",
       "      <th>education_qual</th>\n",
       "      <th>call_type</th>\n",
       "      <th>day</th>\n",
       "      <th>mon</th>\n",
       "      <th>dur</th>\n",
       "      <th>num_calls</th>\n",
       "      <th>prev_outcome</th>\n",
       "      <th>y</th>\n",
       "    </tr>\n",
       "  </thead>\n",
       "  <tbody>\n",
       "    <tr>\n",
       "      <th>0</th>\n",
       "      <td>58.0</td>\n",
       "      <td>8</td>\n",
       "      <td>married</td>\n",
       "      <td>tertiary</td>\n",
       "      <td>unknown</td>\n",
       "      <td>5</td>\n",
       "      <td>may</td>\n",
       "      <td>261</td>\n",
       "      <td>1</td>\n",
       "      <td>unknown</td>\n",
       "      <td>0</td>\n",
       "    </tr>\n",
       "    <tr>\n",
       "      <th>1</th>\n",
       "      <td>44.0</td>\n",
       "      <td>5</td>\n",
       "      <td>single</td>\n",
       "      <td>secondary</td>\n",
       "      <td>unknown</td>\n",
       "      <td>5</td>\n",
       "      <td>may</td>\n",
       "      <td>151</td>\n",
       "      <td>1</td>\n",
       "      <td>unknown</td>\n",
       "      <td>0</td>\n",
       "    </tr>\n",
       "    <tr>\n",
       "      <th>2</th>\n",
       "      <td>33.0</td>\n",
       "      <td>2</td>\n",
       "      <td>married</td>\n",
       "      <td>secondary</td>\n",
       "      <td>unknown</td>\n",
       "      <td>5</td>\n",
       "      <td>may</td>\n",
       "      <td>76</td>\n",
       "      <td>1</td>\n",
       "      <td>unknown</td>\n",
       "      <td>0</td>\n",
       "    </tr>\n",
       "    <tr>\n",
       "      <th>3</th>\n",
       "      <td>47.0</td>\n",
       "      <td>1</td>\n",
       "      <td>married</td>\n",
       "      <td>unknown</td>\n",
       "      <td>unknown</td>\n",
       "      <td>5</td>\n",
       "      <td>may</td>\n",
       "      <td>92</td>\n",
       "      <td>1</td>\n",
       "      <td>unknown</td>\n",
       "      <td>0</td>\n",
       "    </tr>\n",
       "    <tr>\n",
       "      <th>4</th>\n",
       "      <td>33.0</td>\n",
       "      <td>1</td>\n",
       "      <td>single</td>\n",
       "      <td>unknown</td>\n",
       "      <td>unknown</td>\n",
       "      <td>5</td>\n",
       "      <td>may</td>\n",
       "      <td>198</td>\n",
       "      <td>1</td>\n",
       "      <td>unknown</td>\n",
       "      <td>0</td>\n",
       "    </tr>\n",
       "  </tbody>\n",
       "</table>\n",
       "</div>"
      ],
      "text/plain": [
       "    age  job  marital education_qual call_type  day  mon  dur  num_calls  \\\n",
       "0  58.0    8  married       tertiary   unknown    5  may  261          1   \n",
       "1  44.0    5   single      secondary   unknown    5  may  151          1   \n",
       "2  33.0    2  married      secondary   unknown    5  may   76          1   \n",
       "3  47.0    1  married        unknown   unknown    5  may   92          1   \n",
       "4  33.0    1   single        unknown   unknown    5  may  198          1   \n",
       "\n",
       "  prev_outcome  y  \n",
       "0      unknown  0  \n",
       "1      unknown  0  \n",
       "2      unknown  0  \n",
       "3      unknown  0  \n",
       "4      unknown  0  "
      ]
     },
     "execution_count": 22,
     "metadata": {},
     "output_type": "execute_result"
    }
   ],
   "source": [
    "#Label Encoding\n",
    "df.replace({\"job\":{'blue-collar':1,'entrepreneur':2,'housemaid':3,'services':4,'technician':5,'self-employed':6,'admin.':7,'management':8,'unemployed':9,'retired':10,'student':11}},inplace=True)\n",
    "df.head()"
   ]
  },
  {
   "cell_type": "code",
   "execution_count": 23,
   "id": "98cba611",
   "metadata": {},
   "outputs": [
    {
     "data": {
      "text/html": [
       "<div>\n",
       "<style scoped>\n",
       "    .dataframe tbody tr th:only-of-type {\n",
       "        vertical-align: middle;\n",
       "    }\n",
       "\n",
       "    .dataframe tbody tr th {\n",
       "        vertical-align: top;\n",
       "    }\n",
       "\n",
       "    .dataframe thead th {\n",
       "        text-align: right;\n",
       "    }\n",
       "</style>\n",
       "<table border=\"1\" class=\"dataframe\">\n",
       "  <thead>\n",
       "    <tr style=\"text-align: right;\">\n",
       "      <th></th>\n",
       "      <th>age</th>\n",
       "      <th>job</th>\n",
       "      <th>marital</th>\n",
       "      <th>education_qual</th>\n",
       "      <th>call_type</th>\n",
       "      <th>day</th>\n",
       "      <th>mon</th>\n",
       "      <th>dur</th>\n",
       "      <th>num_calls</th>\n",
       "      <th>prev_outcome</th>\n",
       "      <th>y</th>\n",
       "    </tr>\n",
       "  </thead>\n",
       "  <tbody>\n",
       "    <tr>\n",
       "      <th>0</th>\n",
       "      <td>58.0</td>\n",
       "      <td>8</td>\n",
       "      <td>married</td>\n",
       "      <td>tertiary</td>\n",
       "      <td>unknown</td>\n",
       "      <td>5</td>\n",
       "      <td>may</td>\n",
       "      <td>261</td>\n",
       "      <td>1</td>\n",
       "      <td>unknown</td>\n",
       "      <td>0</td>\n",
       "    </tr>\n",
       "    <tr>\n",
       "      <th>1</th>\n",
       "      <td>44.0</td>\n",
       "      <td>5</td>\n",
       "      <td>single</td>\n",
       "      <td>secondary</td>\n",
       "      <td>unknown</td>\n",
       "      <td>5</td>\n",
       "      <td>may</td>\n",
       "      <td>151</td>\n",
       "      <td>1</td>\n",
       "      <td>unknown</td>\n",
       "      <td>0</td>\n",
       "    </tr>\n",
       "    <tr>\n",
       "      <th>2</th>\n",
       "      <td>33.0</td>\n",
       "      <td>2</td>\n",
       "      <td>married</td>\n",
       "      <td>secondary</td>\n",
       "      <td>unknown</td>\n",
       "      <td>5</td>\n",
       "      <td>may</td>\n",
       "      <td>76</td>\n",
       "      <td>1</td>\n",
       "      <td>unknown</td>\n",
       "      <td>0</td>\n",
       "    </tr>\n",
       "    <tr>\n",
       "      <th>3</th>\n",
       "      <td>47.0</td>\n",
       "      <td>1</td>\n",
       "      <td>married</td>\n",
       "      <td>unknown</td>\n",
       "      <td>unknown</td>\n",
       "      <td>5</td>\n",
       "      <td>may</td>\n",
       "      <td>92</td>\n",
       "      <td>1</td>\n",
       "      <td>unknown</td>\n",
       "      <td>0</td>\n",
       "    </tr>\n",
       "    <tr>\n",
       "      <th>4</th>\n",
       "      <td>33.0</td>\n",
       "      <td>1</td>\n",
       "      <td>single</td>\n",
       "      <td>unknown</td>\n",
       "      <td>unknown</td>\n",
       "      <td>5</td>\n",
       "      <td>may</td>\n",
       "      <td>198</td>\n",
       "      <td>1</td>\n",
       "      <td>unknown</td>\n",
       "      <td>0</td>\n",
       "    </tr>\n",
       "  </tbody>\n",
       "</table>\n",
       "</div>"
      ],
      "text/plain": [
       "    age  job  marital education_qual call_type  day  mon  dur  num_calls  \\\n",
       "0  58.0    8  married       tertiary   unknown    5  may  261          1   \n",
       "1  44.0    5   single      secondary   unknown    5  may  151          1   \n",
       "2  33.0    2  married      secondary   unknown    5  may   76          1   \n",
       "3  47.0    1  married        unknown   unknown    5  may   92          1   \n",
       "4  33.0    1   single        unknown   unknown    5  may  198          1   \n",
       "\n",
       "  prev_outcome  y  \n",
       "0      unknown  0  \n",
       "1      unknown  0  \n",
       "2      unknown  0  \n",
       "3      unknown  0  \n",
       "4      unknown  0  "
      ]
     },
     "execution_count": 23,
     "metadata": {},
     "output_type": "execute_result"
    }
   ],
   "source": [
    "df.head()"
   ]
  },
  {
   "cell_type": "code",
   "execution_count": 24,
   "id": "1ba29ec5",
   "metadata": {},
   "outputs": [
    {
     "data": {
      "text/plain": [
       "married     27210\n",
       "single      12788\n",
       "divorced     5207\n",
       "Name: marital, dtype: int64"
      ]
     },
     "execution_count": 24,
     "metadata": {},
     "output_type": "execute_result"
    }
   ],
   "source": [
    "df['marital'].value_counts()"
   ]
  },
  {
   "cell_type": "code",
   "execution_count": 25,
   "id": "76fd9509",
   "metadata": {},
   "outputs": [
    {
     "data": {
      "text/plain": [
       "<AxesSubplot: xlabel='marital', ylabel='count'>"
      ]
     },
     "execution_count": 25,
     "metadata": {},
     "output_type": "execute_result"
    },
    {
     "data": {
      "image/png": "[encoded data removed]",
      "text/plain": [
       "<Figure size 500x500 with 1 Axes>"
      ]
     },
     "metadata": {},
     "output_type": "display_data"
    }
   ],
   "source": [
    "#Job vs Target Variable\n",
    "plt.figure(figsize=(5, 5))\n",
    "sns.countplot(x='marital',hue='y',data=df)"
   ]
  },
  {
   "cell_type": "code",
   "execution_count": 26,
   "id": "6a91b265",
   "metadata": {},
   "outputs": [
    {
     "data": {
      "text/plain": [
       "<AxesSubplot: ylabel='marital'>"
      ]
     },
     "execution_count": 26,
     "metadata": {},
     "output_type": "execute_result"
    },
    {
     "data": {
      "image/png": "[encoded data removed]",
      "text/plain": [
       "<Figure size 640x480 with 1 Axes>"
      ]
     },
     "metadata": {},
     "output_type": "display_data"
    }
   ],
   "source": [
    "df.groupby('marital')['y'].mean().sort_values().plot(kind='barh')"
   ]
  },
  {
   "cell_type": "markdown",
   "id": "a4743276",
   "metadata": {},
   "source": [
    "The following graph show conversion rate of the customer with regarding the their marital status. As we can see that the customer who claim the insurance where belongs to single category and low conversion are married. But the insurance company contacted the customers who belongs to married category."
   ]
  },
  {
   "cell_type": "code",
   "execution_count": 27,
   "id": "798f2ce9",
   "metadata": {},
   "outputs": [
    {
     "data": {
      "text/html": [
       "<div>\n",
       "<style scoped>\n",
       "    .dataframe tbody tr th:only-of-type {\n",
       "        vertical-align: middle;\n",
       "    }\n",
       "\n",
       "    .dataframe tbody tr th {\n",
       "        vertical-align: top;\n",
       "    }\n",
       "\n",
       "    .dataframe thead th {\n",
       "        text-align: right;\n",
       "    }\n",
       "</style>\n",
       "<table border=\"1\" class=\"dataframe\">\n",
       "  <thead>\n",
       "    <tr style=\"text-align: right;\">\n",
       "      <th></th>\n",
       "      <th>age</th>\n",
       "      <th>job</th>\n",
       "      <th>marital</th>\n",
       "      <th>education_qual</th>\n",
       "      <th>call_type</th>\n",
       "      <th>day</th>\n",
       "      <th>mon</th>\n",
       "      <th>dur</th>\n",
       "      <th>num_calls</th>\n",
       "      <th>prev_outcome</th>\n",
       "      <th>y</th>\n",
       "    </tr>\n",
       "  </thead>\n",
       "  <tbody>\n",
       "    <tr>\n",
       "      <th>0</th>\n",
       "      <td>58.0</td>\n",
       "      <td>8</td>\n",
       "      <td>1</td>\n",
       "      <td>tertiary</td>\n",
       "      <td>unknown</td>\n",
       "      <td>5</td>\n",
       "      <td>may</td>\n",
       "      <td>261</td>\n",
       "      <td>1</td>\n",
       "      <td>unknown</td>\n",
       "      <td>0</td>\n",
       "    </tr>\n",
       "    <tr>\n",
       "      <th>1</th>\n",
       "      <td>44.0</td>\n",
       "      <td>5</td>\n",
       "      <td>2</td>\n",
       "      <td>secondary</td>\n",
       "      <td>unknown</td>\n",
       "      <td>5</td>\n",
       "      <td>may</td>\n",
       "      <td>151</td>\n",
       "      <td>1</td>\n",
       "      <td>unknown</td>\n",
       "      <td>0</td>\n",
       "    </tr>\n",
       "    <tr>\n",
       "      <th>2</th>\n",
       "      <td>33.0</td>\n",
       "      <td>2</td>\n",
       "      <td>1</td>\n",
       "      <td>secondary</td>\n",
       "      <td>unknown</td>\n",
       "      <td>5</td>\n",
       "      <td>may</td>\n",
       "      <td>76</td>\n",
       "      <td>1</td>\n",
       "      <td>unknown</td>\n",
       "      <td>0</td>\n",
       "    </tr>\n",
       "    <tr>\n",
       "      <th>3</th>\n",
       "      <td>47.0</td>\n",
       "      <td>1</td>\n",
       "      <td>1</td>\n",
       "      <td>unknown</td>\n",
       "      <td>unknown</td>\n",
       "      <td>5</td>\n",
       "      <td>may</td>\n",
       "      <td>92</td>\n",
       "      <td>1</td>\n",
       "      <td>unknown</td>\n",
       "      <td>0</td>\n",
       "    </tr>\n",
       "    <tr>\n",
       "      <th>4</th>\n",
       "      <td>33.0</td>\n",
       "      <td>1</td>\n",
       "      <td>2</td>\n",
       "      <td>unknown</td>\n",
       "      <td>unknown</td>\n",
       "      <td>5</td>\n",
       "      <td>may</td>\n",
       "      <td>198</td>\n",
       "      <td>1</td>\n",
       "      <td>unknown</td>\n",
       "      <td>0</td>\n",
       "    </tr>\n",
       "  </tbody>\n",
       "</table>\n",
       "</div>"
      ],
      "text/plain": [
       "    age  job  marital education_qual call_type  day  mon  dur  num_calls  \\\n",
       "0  58.0    8        1       tertiary   unknown    5  may  261          1   \n",
       "1  44.0    5        2      secondary   unknown    5  may  151          1   \n",
       "2  33.0    2        1      secondary   unknown    5  may   76          1   \n",
       "3  47.0    1        1        unknown   unknown    5  may   92          1   \n",
       "4  33.0    1        2        unknown   unknown    5  may  198          1   \n",
       "\n",
       "  prev_outcome  y  \n",
       "0      unknown  0  \n",
       "1      unknown  0  \n",
       "2      unknown  0  \n",
       "3      unknown  0  \n",
       "4      unknown  0  "
      ]
     },
     "execution_count": 27,
     "metadata": {},
     "output_type": "execute_result"
    }
   ],
   "source": [
    "#Label encoding\n",
    "df.replace({\"marital\":{'married':1,'divorced':2,'single':2}},inplace=True)\n",
    "df.head()"
   ]
  },
  {
   "cell_type": "code",
   "execution_count": 28,
   "id": "51ae9ab1",
   "metadata": {},
   "outputs": [
    {
     "data": {
      "text/plain": [
       "secondary    23199\n",
       "tertiary     13299\n",
       "primary       6850\n",
       "unknown       1857\n",
       "Name: education_qual, dtype: int64"
      ]
     },
     "execution_count": 28,
     "metadata": {},
     "output_type": "execute_result"
    }
   ],
   "source": [
    "df['education_qual'].value_counts()"
   ]
  },
  {
   "cell_type": "markdown",
   "id": "e06d5229",
   "metadata": {},
   "source": [
    "We can see there are 1857 unkown variables in the Job column which consider as less percentage. So moving forware we impute the unknown values with mode value of the Education Column"
   ]
  },
  {
   "cell_type": "code",
   "execution_count": 29,
   "id": "dbc75971",
   "metadata": {},
   "outputs": [
    {
     "data": {
      "text/plain": [
       "<AxesSubplot: xlabel='education_qual', ylabel='count'>"
      ]
     },
     "execution_count": 29,
     "metadata": {},
     "output_type": "execute_result"
    },
    {
     "data": {
      "image/png": "[encoded data removed]",
      "text/plain": [
       "<Figure size 500x500 with 1 Axes>"
      ]
     },
     "metadata": {},
     "output_type": "display_data"
    }
   ],
   "source": [
    "#education_qual vs Target Variable\n",
    "plt.figure(figsize=(5, 5))\n",
    "sns.countplot(x='education_qual',hue='y',data=df)"
   ]
  },
  {
   "cell_type": "code",
   "execution_count": 30,
   "id": "9288ec40",
   "metadata": {},
   "outputs": [
    {
     "data": {
      "text/plain": [
       "0    secondary\n",
       "Name: education_qual, dtype: object"
      ]
     },
     "execution_count": 30,
     "metadata": {},
     "output_type": "execute_result"
    }
   ],
   "source": [
    "df[\"education_qual\"].mode()"
   ]
  },
  {
   "cell_type": "code",
   "execution_count": 31,
   "id": "bc568caa",
   "metadata": {},
   "outputs": [
    {
     "data": {
      "text/html": [
       "<div>\n",
       "<style scoped>\n",
       "    .dataframe tbody tr th:only-of-type {\n",
       "        vertical-align: middle;\n",
       "    }\n",
       "\n",
       "    .dataframe tbody tr th {\n",
       "        vertical-align: top;\n",
       "    }\n",
       "\n",
       "    .dataframe thead th {\n",
       "        text-align: right;\n",
       "    }\n",
       "</style>\n",
       "<table border=\"1\" class=\"dataframe\">\n",
       "  <thead>\n",
       "    <tr style=\"text-align: right;\">\n",
       "      <th></th>\n",
       "      <th>age</th>\n",
       "      <th>job</th>\n",
       "      <th>marital</th>\n",
       "      <th>education_qual</th>\n",
       "      <th>call_type</th>\n",
       "      <th>day</th>\n",
       "      <th>mon</th>\n",
       "      <th>dur</th>\n",
       "      <th>num_calls</th>\n",
       "      <th>prev_outcome</th>\n",
       "      <th>y</th>\n",
       "    </tr>\n",
       "  </thead>\n",
       "  <tbody>\n",
       "    <tr>\n",
       "      <th>0</th>\n",
       "      <td>58.0</td>\n",
       "      <td>8</td>\n",
       "      <td>1</td>\n",
       "      <td>tertiary</td>\n",
       "      <td>unknown</td>\n",
       "      <td>5</td>\n",
       "      <td>may</td>\n",
       "      <td>261</td>\n",
       "      <td>1</td>\n",
       "      <td>unknown</td>\n",
       "      <td>0</td>\n",
       "    </tr>\n",
       "    <tr>\n",
       "      <th>1</th>\n",
       "      <td>44.0</td>\n",
       "      <td>5</td>\n",
       "      <td>2</td>\n",
       "      <td>secondary</td>\n",
       "      <td>unknown</td>\n",
       "      <td>5</td>\n",
       "      <td>may</td>\n",
       "      <td>151</td>\n",
       "      <td>1</td>\n",
       "      <td>unknown</td>\n",
       "      <td>0</td>\n",
       "    </tr>\n",
       "    <tr>\n",
       "      <th>2</th>\n",
       "      <td>33.0</td>\n",
       "      <td>2</td>\n",
       "      <td>1</td>\n",
       "      <td>secondary</td>\n",
       "      <td>unknown</td>\n",
       "      <td>5</td>\n",
       "      <td>may</td>\n",
       "      <td>76</td>\n",
       "      <td>1</td>\n",
       "      <td>unknown</td>\n",
       "      <td>0</td>\n",
       "    </tr>\n",
       "    <tr>\n",
       "      <th>3</th>\n",
       "      <td>47.0</td>\n",
       "      <td>1</td>\n",
       "      <td>1</td>\n",
       "      <td>secondary</td>\n",
       "      <td>unknown</td>\n",
       "      <td>5</td>\n",
       "      <td>may</td>\n",
       "      <td>92</td>\n",
       "      <td>1</td>\n",
       "      <td>unknown</td>\n",
       "      <td>0</td>\n",
       "    </tr>\n",
       "    <tr>\n",
       "      <th>4</th>\n",
       "      <td>33.0</td>\n",
       "      <td>1</td>\n",
       "      <td>2</td>\n",
       "      <td>secondary</td>\n",
       "      <td>unknown</td>\n",
       "      <td>5</td>\n",
       "      <td>may</td>\n",
       "      <td>198</td>\n",
       "      <td>1</td>\n",
       "      <td>unknown</td>\n",
       "      <td>0</td>\n",
       "    </tr>\n",
       "  </tbody>\n",
       "</table>\n",
       "</div>"
      ],
      "text/plain": [
       "    age  job  marital education_qual call_type  day  mon  dur  num_calls  \\\n",
       "0  58.0    8        1       tertiary   unknown    5  may  261          1   \n",
       "1  44.0    5        2      secondary   unknown    5  may  151          1   \n",
       "2  33.0    2        1      secondary   unknown    5  may   76          1   \n",
       "3  47.0    1        1      secondary   unknown    5  may   92          1   \n",
       "4  33.0    1        2      secondary   unknown    5  may  198          1   \n",
       "\n",
       "  prev_outcome  y  \n",
       "0      unknown  0  \n",
       "1      unknown  0  \n",
       "2      unknown  0  \n",
       "3      unknown  0  \n",
       "4      unknown  0  "
      ]
     },
     "execution_count": 31,
     "metadata": {},
     "output_type": "execute_result"
    }
   ],
   "source": [
    "df[\"education_qual\"] = df[\"education_qual\"].replace(\"unknown\", \"secondary\")\n",
    "df.head()"
   ]
  },
  {
   "cell_type": "code",
   "execution_count": 32,
   "id": "ee2f49b0",
   "metadata": {},
   "outputs": [
    {
     "data": {
      "text/plain": [
       "<AxesSubplot: ylabel='education_qual'>"
      ]
     },
     "execution_count": 32,
     "metadata": {},
     "output_type": "execute_result"
    },
    {
     "data": {
      "image/png": "[encoded data removed]",
      "text/plain": [
       "<Figure size 640x480 with 1 Axes>"
      ]
     },
     "metadata": {},
     "output_type": "display_data"
    }
   ],
   "source": [
    "df.groupby('education_qual')['y'].mean().sort_values().plot(kind='barh')"
   ]
  },
  {
   "cell_type": "markdown",
   "id": "1c5c07ac",
   "metadata": {},
   "source": [
    "The following graph show conversion rate of the customer with regarding the their education. As we can see that the customer who claim the insurance mostly are belong Tertiary Education and low conversion are primary education."
   ]
  },
  {
   "cell_type": "code",
   "execution_count": 33,
   "id": "ed24c46c",
   "metadata": {},
   "outputs": [
    {
     "data": {
      "text/html": [
       "<div>\n",
       "<style scoped>\n",
       "    .dataframe tbody tr th:only-of-type {\n",
       "        vertical-align: middle;\n",
       "    }\n",
       "\n",
       "    .dataframe tbody tr th {\n",
       "        vertical-align: top;\n",
       "    }\n",
       "\n",
       "    .dataframe thead th {\n",
       "        text-align: right;\n",
       "    }\n",
       "</style>\n",
       "<table border=\"1\" class=\"dataframe\">\n",
       "  <thead>\n",
       "    <tr style=\"text-align: right;\">\n",
       "      <th></th>\n",
       "      <th>age</th>\n",
       "      <th>job</th>\n",
       "      <th>marital</th>\n",
       "      <th>education_qual</th>\n",
       "      <th>call_type</th>\n",
       "      <th>day</th>\n",
       "      <th>mon</th>\n",
       "      <th>dur</th>\n",
       "      <th>num_calls</th>\n",
       "      <th>prev_outcome</th>\n",
       "      <th>y</th>\n",
       "    </tr>\n",
       "  </thead>\n",
       "  <tbody>\n",
       "    <tr>\n",
       "      <th>0</th>\n",
       "      <td>58.0</td>\n",
       "      <td>8</td>\n",
       "      <td>1</td>\n",
       "      <td>3</td>\n",
       "      <td>unknown</td>\n",
       "      <td>5</td>\n",
       "      <td>may</td>\n",
       "      <td>261</td>\n",
       "      <td>1</td>\n",
       "      <td>unknown</td>\n",
       "      <td>0</td>\n",
       "    </tr>\n",
       "    <tr>\n",
       "      <th>1</th>\n",
       "      <td>44.0</td>\n",
       "      <td>5</td>\n",
       "      <td>2</td>\n",
       "      <td>2</td>\n",
       "      <td>unknown</td>\n",
       "      <td>5</td>\n",
       "      <td>may</td>\n",
       "      <td>151</td>\n",
       "      <td>1</td>\n",
       "      <td>unknown</td>\n",
       "      <td>0</td>\n",
       "    </tr>\n",
       "    <tr>\n",
       "      <th>2</th>\n",
       "      <td>33.0</td>\n",
       "      <td>2</td>\n",
       "      <td>1</td>\n",
       "      <td>2</td>\n",
       "      <td>unknown</td>\n",
       "      <td>5</td>\n",
       "      <td>may</td>\n",
       "      <td>76</td>\n",
       "      <td>1</td>\n",
       "      <td>unknown</td>\n",
       "      <td>0</td>\n",
       "    </tr>\n",
       "    <tr>\n",
       "      <th>3</th>\n",
       "      <td>47.0</td>\n",
       "      <td>1</td>\n",
       "      <td>1</td>\n",
       "      <td>2</td>\n",
       "      <td>unknown</td>\n",
       "      <td>5</td>\n",
       "      <td>may</td>\n",
       "      <td>92</td>\n",
       "      <td>1</td>\n",
       "      <td>unknown</td>\n",
       "      <td>0</td>\n",
       "    </tr>\n",
       "    <tr>\n",
       "      <th>4</th>\n",
       "      <td>33.0</td>\n",
       "      <td>1</td>\n",
       "      <td>2</td>\n",
       "      <td>2</td>\n",
       "      <td>unknown</td>\n",
       "      <td>5</td>\n",
       "      <td>may</td>\n",
       "      <td>198</td>\n",
       "      <td>1</td>\n",
       "      <td>unknown</td>\n",
       "      <td>0</td>\n",
       "    </tr>\n",
       "  </tbody>\n",
       "</table>\n",
       "</div>"
      ],
      "text/plain": [
       "    age  job  marital  education_qual call_type  day  mon  dur  num_calls  \\\n",
       "0  58.0    8        1               3   unknown    5  may  261          1   \n",
       "1  44.0    5        2               2   unknown    5  may  151          1   \n",
       "2  33.0    2        1               2   unknown    5  may   76          1   \n",
       "3  47.0    1        1               2   unknown    5  may   92          1   \n",
       "4  33.0    1        2               2   unknown    5  may  198          1   \n",
       "\n",
       "  prev_outcome  y  \n",
       "0      unknown  0  \n",
       "1      unknown  0  \n",
       "2      unknown  0  \n",
       "3      unknown  0  \n",
       "4      unknown  0  "
      ]
     },
     "execution_count": 33,
     "metadata": {},
     "output_type": "execute_result"
    }
   ],
   "source": [
    "#Label Encoding\n",
    "df.replace({\"education_qual\":{'primary':1,'secondary':2,'tertiary':3}},inplace=True)\n",
    "df.head()"
   ]
  },
  {
   "cell_type": "code",
   "execution_count": 34,
   "id": "229a0334",
   "metadata": {},
   "outputs": [
    {
     "data": {
      "text/plain": [
       "cellular     29282\n",
       "unknown      13017\n",
       "telephone     2906\n",
       "Name: call_type, dtype: int64"
      ]
     },
     "execution_count": 34,
     "metadata": {},
     "output_type": "execute_result"
    }
   ],
   "source": [
    "df['call_type'].value_counts()"
   ]
  },
  {
   "cell_type": "markdown",
   "id": "ac4e2edc",
   "metadata": {},
   "source": [
    "We can see there are 13017 unkown variables in the call_type column which are very high in percentage. So data imputing for this doesn't work. so moving we consider the unknown variable as a category itself"
   ]
  },
  {
   "cell_type": "code",
   "execution_count": 35,
   "id": "dc6c85fc",
   "metadata": {},
   "outputs": [
    {
     "data": {
      "text/plain": [
       "<AxesSubplot: xlabel='call_type', ylabel='count'>"
      ]
     },
     "execution_count": 35,
     "metadata": {},
     "output_type": "execute_result"
    },
    {
     "data": {
      "image/png": "[encoded data removed]",
      "text/plain": [
       "<Figure size 500x500 with 1 Axes>"
      ]
     },
     "metadata": {},
     "output_type": "display_data"
    }
   ],
   "source": [
    "#call_type vs Target Variable\n",
    "plt.figure(figsize=(5, 5))\n",
    "sns.countplot(x='call_type',hue='y',data=df)"
   ]
  },
  {
   "cell_type": "code",
   "execution_count": 36,
   "id": "533451c4",
   "metadata": {},
   "outputs": [
    {
     "data": {
      "text/plain": [
       "<AxesSubplot: ylabel='call_type'>"
      ]
     },
     "execution_count": 36,
     "metadata": {},
     "output_type": "execute_result"
    },
    {
     "data": {
      "image/png": "[encoded data removed]",
      "text/plain": [
       "<Figure size 640x480 with 1 Axes>"
      ]
     },
     "metadata": {},
     "output_type": "display_data"
    }
   ],
   "source": [
    "df.groupby('call_type')['y'].mean().sort_values().plot(kind='barh')"
   ]
  },
  {
   "cell_type": "markdown",
   "id": "b222675d",
   "metadata": {},
   "source": [
    "The following graph show conversion rate of the customer with regarding call_type. As we can see that the customer who claim the insurance mostly contacted through cellular and low conversion are unknown."
   ]
  },
  {
   "cell_type": "code",
   "execution_count": 37,
   "id": "1afbb2bb",
   "metadata": {},
   "outputs": [
    {
     "data": {
      "text/html": [
       "<div>\n",
       "<style scoped>\n",
       "    .dataframe tbody tr th:only-of-type {\n",
       "        vertical-align: middle;\n",
       "    }\n",
       "\n",
       "    .dataframe tbody tr th {\n",
       "        vertical-align: top;\n",
       "    }\n",
       "\n",
       "    .dataframe thead th {\n",
       "        text-align: right;\n",
       "    }\n",
       "</style>\n",
       "<table border=\"1\" class=\"dataframe\">\n",
       "  <thead>\n",
       "    <tr style=\"text-align: right;\">\n",
       "      <th></th>\n",
       "      <th>age</th>\n",
       "      <th>job</th>\n",
       "      <th>marital</th>\n",
       "      <th>education_qual</th>\n",
       "      <th>call_type</th>\n",
       "      <th>day</th>\n",
       "      <th>mon</th>\n",
       "      <th>dur</th>\n",
       "      <th>num_calls</th>\n",
       "      <th>prev_outcome</th>\n",
       "      <th>y</th>\n",
       "    </tr>\n",
       "  </thead>\n",
       "  <tbody>\n",
       "    <tr>\n",
       "      <th>0</th>\n",
       "      <td>58.0</td>\n",
       "      <td>8</td>\n",
       "      <td>1</td>\n",
       "      <td>3</td>\n",
       "      <td>1</td>\n",
       "      <td>5</td>\n",
       "      <td>may</td>\n",
       "      <td>261</td>\n",
       "      <td>1</td>\n",
       "      <td>unknown</td>\n",
       "      <td>0</td>\n",
       "    </tr>\n",
       "    <tr>\n",
       "      <th>1</th>\n",
       "      <td>44.0</td>\n",
       "      <td>5</td>\n",
       "      <td>2</td>\n",
       "      <td>2</td>\n",
       "      <td>1</td>\n",
       "      <td>5</td>\n",
       "      <td>may</td>\n",
       "      <td>151</td>\n",
       "      <td>1</td>\n",
       "      <td>unknown</td>\n",
       "      <td>0</td>\n",
       "    </tr>\n",
       "    <tr>\n",
       "      <th>2</th>\n",
       "      <td>33.0</td>\n",
       "      <td>2</td>\n",
       "      <td>1</td>\n",
       "      <td>2</td>\n",
       "      <td>1</td>\n",
       "      <td>5</td>\n",
       "      <td>may</td>\n",
       "      <td>76</td>\n",
       "      <td>1</td>\n",
       "      <td>unknown</td>\n",
       "      <td>0</td>\n",
       "    </tr>\n",
       "    <tr>\n",
       "      <th>3</th>\n",
       "      <td>47.0</td>\n",
       "      <td>1</td>\n",
       "      <td>1</td>\n",
       "      <td>2</td>\n",
       "      <td>1</td>\n",
       "      <td>5</td>\n",
       "      <td>may</td>\n",
       "      <td>92</td>\n",
       "      <td>1</td>\n",
       "      <td>unknown</td>\n",
       "      <td>0</td>\n",
       "    </tr>\n",
       "    <tr>\n",
       "      <th>4</th>\n",
       "      <td>33.0</td>\n",
       "      <td>1</td>\n",
       "      <td>2</td>\n",
       "      <td>2</td>\n",
       "      <td>1</td>\n",
       "      <td>5</td>\n",
       "      <td>may</td>\n",
       "      <td>198</td>\n",
       "      <td>1</td>\n",
       "      <td>unknown</td>\n",
       "      <td>0</td>\n",
       "    </tr>\n",
       "  </tbody>\n",
       "</table>\n",
       "</div>"
      ],
      "text/plain": [
       "    age  job  marital  education_qual  call_type  day  mon  dur  num_calls  \\\n",
       "0  58.0    8        1               3          1    5  may  261          1   \n",
       "1  44.0    5        2               2          1    5  may  151          1   \n",
       "2  33.0    2        1               2          1    5  may   76          1   \n",
       "3  47.0    1        1               2          1    5  may   92          1   \n",
       "4  33.0    1        2               2          1    5  may  198          1   \n",
       "\n",
       "  prev_outcome  y  \n",
       "0      unknown  0  \n",
       "1      unknown  0  \n",
       "2      unknown  0  \n",
       "3      unknown  0  \n",
       "4      unknown  0  "
      ]
     },
     "execution_count": 37,
     "metadata": {},
     "output_type": "execute_result"
    }
   ],
   "source": [
    "#Label Encoding\n",
    "df.replace({\"call_type\":{'unknown':1,'telephone':2,'cellular':3}},inplace=True)\n",
    "df.head()"
   ]
  },
  {
   "cell_type": "code",
   "execution_count": null,
   "id": "35393603",
   "metadata": {},
   "outputs": [],
   "source": []
  },
  {
   "cell_type": "code",
   "execution_count": 38,
   "id": "183bcee0",
   "metadata": {},
   "outputs": [
    {
     "data": {
      "text/plain": [
       "may    13765\n",
       "jul     6894\n",
       "aug     6245\n",
       "jun     5339\n",
       "nov     3970\n",
       "apr     2932\n",
       "feb     2649\n",
       "jan     1403\n",
       "oct      738\n",
       "sep      579\n",
       "mar      477\n",
       "dec      214\n",
       "Name: mon, dtype: int64"
      ]
     },
     "execution_count": 38,
     "metadata": {},
     "output_type": "execute_result"
    }
   ],
   "source": [
    "df['mon'].value_counts()"
   ]
  },
  {
   "cell_type": "code",
   "execution_count": 39,
   "id": "feac2c80",
   "metadata": {},
   "outputs": [
    {
     "data": {
      "text/plain": [
       "<AxesSubplot: xlabel='mon', ylabel='count'>"
      ]
     },
     "execution_count": 39,
     "metadata": {},
     "output_type": "execute_result"
    },
    {
     "data": {
      "image/png": "[encoded data removed]",
      "text/plain": [
       "<Figure size 1500x500 with 1 Axes>"
      ]
     },
     "metadata": {},
     "output_type": "display_data"
    }
   ],
   "source": [
    "#Month vs Target Variable\n",
    "plt.figure(figsize=(15, 5))\n",
    "sns.countplot(x='mon',hue='y',data=df)"
   ]
  },
  {
   "cell_type": "code",
   "execution_count": 40,
   "id": "cbeae1f7",
   "metadata": {},
   "outputs": [
    {
     "data": {
      "text/plain": [
       "<AxesSubplot: ylabel='mon'>"
      ]
     },
     "execution_count": 40,
     "metadata": {},
     "output_type": "execute_result"
    },
    {
     "data": {
      "image/png": "[encoded data removed]",
      "text/plain": [
       "<Figure size 640x480 with 1 Axes>"
      ]
     },
     "metadata": {},
     "output_type": "display_data"
    }
   ],
   "source": [
    "df.groupby('mon')['y'].mean().sort_values().plot(kind='barh')"
   ]
  },
  {
   "cell_type": "markdown",
   "id": "42c4be54",
   "metadata": {},
   "source": [
    "The following graph show conversion rate of the customer with regarding month. As we can see that the customer who claim the insurance mostly contacted in mar and low conversion are may."
   ]
  },
  {
   "cell_type": "code",
   "execution_count": 41,
   "id": "35e7418d",
   "metadata": {},
   "outputs": [
    {
     "data": {
      "text/html": [
       "<div>\n",
       "<style scoped>\n",
       "    .dataframe tbody tr th:only-of-type {\n",
       "        vertical-align: middle;\n",
       "    }\n",
       "\n",
       "    .dataframe tbody tr th {\n",
       "        vertical-align: top;\n",
       "    }\n",
       "\n",
       "    .dataframe thead th {\n",
       "        text-align: right;\n",
       "    }\n",
       "</style>\n",
       "<table border=\"1\" class=\"dataframe\">\n",
       "  <thead>\n",
       "    <tr style=\"text-align: right;\">\n",
       "      <th></th>\n",
       "      <th>age</th>\n",
       "      <th>job</th>\n",
       "      <th>marital</th>\n",
       "      <th>education_qual</th>\n",
       "      <th>call_type</th>\n",
       "      <th>day</th>\n",
       "      <th>mon</th>\n",
       "      <th>dur</th>\n",
       "      <th>num_calls</th>\n",
       "      <th>prev_outcome</th>\n",
       "      <th>y</th>\n",
       "    </tr>\n",
       "  </thead>\n",
       "  <tbody>\n",
       "    <tr>\n",
       "      <th>0</th>\n",
       "      <td>58.0</td>\n",
       "      <td>8</td>\n",
       "      <td>1</td>\n",
       "      <td>3</td>\n",
       "      <td>1</td>\n",
       "      <td>5</td>\n",
       "      <td>1</td>\n",
       "      <td>261</td>\n",
       "      <td>1</td>\n",
       "      <td>unknown</td>\n",
       "      <td>0</td>\n",
       "    </tr>\n",
       "    <tr>\n",
       "      <th>1</th>\n",
       "      <td>44.0</td>\n",
       "      <td>5</td>\n",
       "      <td>2</td>\n",
       "      <td>2</td>\n",
       "      <td>1</td>\n",
       "      <td>5</td>\n",
       "      <td>1</td>\n",
       "      <td>151</td>\n",
       "      <td>1</td>\n",
       "      <td>unknown</td>\n",
       "      <td>0</td>\n",
       "    </tr>\n",
       "    <tr>\n",
       "      <th>2</th>\n",
       "      <td>33.0</td>\n",
       "      <td>2</td>\n",
       "      <td>1</td>\n",
       "      <td>2</td>\n",
       "      <td>1</td>\n",
       "      <td>5</td>\n",
       "      <td>1</td>\n",
       "      <td>76</td>\n",
       "      <td>1</td>\n",
       "      <td>unknown</td>\n",
       "      <td>0</td>\n",
       "    </tr>\n",
       "    <tr>\n",
       "      <th>3</th>\n",
       "      <td>47.0</td>\n",
       "      <td>1</td>\n",
       "      <td>1</td>\n",
       "      <td>2</td>\n",
       "      <td>1</td>\n",
       "      <td>5</td>\n",
       "      <td>1</td>\n",
       "      <td>92</td>\n",
       "      <td>1</td>\n",
       "      <td>unknown</td>\n",
       "      <td>0</td>\n",
       "    </tr>\n",
       "    <tr>\n",
       "      <th>4</th>\n",
       "      <td>33.0</td>\n",
       "      <td>1</td>\n",
       "      <td>2</td>\n",
       "      <td>2</td>\n",
       "      <td>1</td>\n",
       "      <td>5</td>\n",
       "      <td>1</td>\n",
       "      <td>198</td>\n",
       "      <td>1</td>\n",
       "      <td>unknown</td>\n",
       "      <td>0</td>\n",
       "    </tr>\n",
       "  </tbody>\n",
       "</table>\n",
       "</div>"
      ],
      "text/plain": [
       "    age  job  marital  education_qual  call_type  day  mon  dur  num_calls  \\\n",
       "0  58.0    8        1               3          1    5    1  261          1   \n",
       "1  44.0    5        2               2          1    5    1  151          1   \n",
       "2  33.0    2        1               2          1    5    1   76          1   \n",
       "3  47.0    1        1               2          1    5    1   92          1   \n",
       "4  33.0    1        2               2          1    5    1  198          1   \n",
       "\n",
       "  prev_outcome  y  \n",
       "0      unknown  0  \n",
       "1      unknown  0  \n",
       "2      unknown  0  \n",
       "3      unknown  0  \n",
       "4      unknown  0  "
      ]
     },
     "execution_count": 41,
     "metadata": {},
     "output_type": "execute_result"
    }
   ],
   "source": [
    "#Label Encoding for the column mon (Month)\n",
    "df.replace({\"mon\":{'may':1,'jul':2,'jan':3,'nov':4,'jun':5,'aug':6,'feb':7,'apr':8,'oct':9,'sep':10,'dec':11,'mar':12,}},inplace=True)\n",
    "df.head()"
   ]
  },
  {
   "cell_type": "code",
   "execution_count": 42,
   "id": "54771594",
   "metadata": {},
   "outputs": [
    {
     "data": {
      "text/plain": [
       "unknown    36953\n",
       "failure     4901\n",
       "other       1840\n",
       "success     1511\n",
       "Name: prev_outcome, dtype: int64"
      ]
     },
     "execution_count": 42,
     "metadata": {},
     "output_type": "execute_result"
    }
   ],
   "source": [
    "df['prev_outcome'].value_counts()"
   ]
  },
  {
   "cell_type": "markdown",
   "id": "037e3dc6",
   "metadata": {},
   "source": [
    "We can see there are 36953 unkown variables in the prev_outcome column which are very high in percentage. So data imputing for this doesn't work. so moving we consider the unknown variable as a category itself"
   ]
  },
  {
   "cell_type": "code",
   "execution_count": 43,
   "id": "2671fe7e",
   "metadata": {},
   "outputs": [
    {
     "data": {
      "text/plain": [
       "<AxesSubplot: xlabel='prev_outcome', ylabel='count'>"
      ]
     },
     "execution_count": 43,
     "metadata": {},
     "output_type": "execute_result"
    },
    {
     "data": {
      "image/png": "[encoded data removed]",
      "text/plain": [
       "<Figure size 500x500 with 1 Axes>"
      ]
     },
     "metadata": {},
     "output_type": "display_data"
    }
   ],
   "source": [
    "#prev_outcome vs Target Variable\n",
    "plt.figure(figsize=(5, 5))\n",
    "sns.countplot(x='prev_outcome',hue='y',data=df)"
   ]
  },
  {
   "cell_type": "code",
   "execution_count": 44,
   "id": "fe967742",
   "metadata": {},
   "outputs": [
    {
     "data": {
      "text/plain": [
       "<AxesSubplot: ylabel='prev_outcome'>"
      ]
     },
     "execution_count": 44,
     "metadata": {},
     "output_type": "execute_result"
    },
    {
     "data": {
      "image/png": "[encoded data removed]",
      "text/plain": [
       "<Figure size 640x480 with 1 Axes>"
      ]
     },
     "metadata": {},
     "output_type": "display_data"
    }
   ],
   "source": [
    "df.groupby('prev_outcome')['y'].mean().sort_values().plot(kind='barh')"
   ]
  },
  {
   "cell_type": "markdown",
   "id": "32a707f5",
   "metadata": {},
   "source": [
    "The following graph show conversion rate of the customer with regarding prev_outcome. As we can see that the customer who claim the insurance mostly took the claim earlier and low conversion were the people whose prev_outcome is unknown."
   ]
  },
  {
   "cell_type": "code",
   "execution_count": 45,
   "id": "a2709439",
   "metadata": {},
   "outputs": [
    {
     "data": {
      "text/html": [
       "<div>\n",
       "<style scoped>\n",
       "    .dataframe tbody tr th:only-of-type {\n",
       "        vertical-align: middle;\n",
       "    }\n",
       "\n",
       "    .dataframe tbody tr th {\n",
       "        vertical-align: top;\n",
       "    }\n",
       "\n",
       "    .dataframe thead th {\n",
       "        text-align: right;\n",
       "    }\n",
       "</style>\n",
       "<table border=\"1\" class=\"dataframe\">\n",
       "  <thead>\n",
       "    <tr style=\"text-align: right;\">\n",
       "      <th></th>\n",
       "      <th>age</th>\n",
       "      <th>job</th>\n",
       "      <th>marital</th>\n",
       "      <th>education_qual</th>\n",
       "      <th>call_type</th>\n",
       "      <th>day</th>\n",
       "      <th>mon</th>\n",
       "      <th>dur</th>\n",
       "      <th>num_calls</th>\n",
       "      <th>prev_outcome</th>\n",
       "      <th>y</th>\n",
       "    </tr>\n",
       "  </thead>\n",
       "  <tbody>\n",
       "    <tr>\n",
       "      <th>0</th>\n",
       "      <td>58.0</td>\n",
       "      <td>8</td>\n",
       "      <td>1</td>\n",
       "      <td>3</td>\n",
       "      <td>1</td>\n",
       "      <td>5</td>\n",
       "      <td>1</td>\n",
       "      <td>261</td>\n",
       "      <td>1</td>\n",
       "      <td>1</td>\n",
       "      <td>0</td>\n",
       "    </tr>\n",
       "    <tr>\n",
       "      <th>1</th>\n",
       "      <td>44.0</td>\n",
       "      <td>5</td>\n",
       "      <td>2</td>\n",
       "      <td>2</td>\n",
       "      <td>1</td>\n",
       "      <td>5</td>\n",
       "      <td>1</td>\n",
       "      <td>151</td>\n",
       "      <td>1</td>\n",
       "      <td>1</td>\n",
       "      <td>0</td>\n",
       "    </tr>\n",
       "    <tr>\n",
       "      <th>2</th>\n",
       "      <td>33.0</td>\n",
       "      <td>2</td>\n",
       "      <td>1</td>\n",
       "      <td>2</td>\n",
       "      <td>1</td>\n",
       "      <td>5</td>\n",
       "      <td>1</td>\n",
       "      <td>76</td>\n",
       "      <td>1</td>\n",
       "      <td>1</td>\n",
       "      <td>0</td>\n",
       "    </tr>\n",
       "    <tr>\n",
       "      <th>3</th>\n",
       "      <td>47.0</td>\n",
       "      <td>1</td>\n",
       "      <td>1</td>\n",
       "      <td>2</td>\n",
       "      <td>1</td>\n",
       "      <td>5</td>\n",
       "      <td>1</td>\n",
       "      <td>92</td>\n",
       "      <td>1</td>\n",
       "      <td>1</td>\n",
       "      <td>0</td>\n",
       "    </tr>\n",
       "    <tr>\n",
       "      <th>4</th>\n",
       "      <td>33.0</td>\n",
       "      <td>1</td>\n",
       "      <td>2</td>\n",
       "      <td>2</td>\n",
       "      <td>1</td>\n",
       "      <td>5</td>\n",
       "      <td>1</td>\n",
       "      <td>198</td>\n",
       "      <td>1</td>\n",
       "      <td>1</td>\n",
       "      <td>0</td>\n",
       "    </tr>\n",
       "  </tbody>\n",
       "</table>\n",
       "</div>"
      ],
      "text/plain": [
       "    age  job  marital  education_qual  call_type  day  mon  dur  num_calls  \\\n",
       "0  58.0    8        1               3          1    5    1  261          1   \n",
       "1  44.0    5        2               2          1    5    1  151          1   \n",
       "2  33.0    2        1               2          1    5    1   76          1   \n",
       "3  47.0    1        1               2          1    5    1   92          1   \n",
       "4  33.0    1        2               2          1    5    1  198          1   \n",
       "\n",
       "   prev_outcome  y  \n",
       "0             1  0  \n",
       "1             1  0  \n",
       "2             1  0  \n",
       "3             1  0  \n",
       "4             1  0  "
      ]
     },
     "execution_count": 45,
     "metadata": {},
     "output_type": "execute_result"
    }
   ],
   "source": [
    "#Label Encoding\n",
    "df.replace({\"prev_outcome\":{'unknown':1,'failure':2,'other':3,'success':4}},inplace=True)\n",
    "df.head()"
   ]
  },
  {
   "cell_type": "markdown",
   "id": "03d5639d",
   "metadata": {},
   "source": [
    "## Ploting the Numercial features vs Target Variable"
   ]
  },
  {
   "cell_type": "code",
   "execution_count": 46,
   "id": "a135640a",
   "metadata": {},
   "outputs": [
    {
     "data": {
      "text/plain": [
       "<AxesSubplot: xlabel='y', ylabel='age'>"
      ]
     },
     "execution_count": 46,
     "metadata": {},
     "output_type": "execute_result"
    },
    {
     "data": {
      "image/png": "[encoded data removed]",
      "text/plain": [
       "<Figure size 640x480 with 1 Axes>"
      ]
     },
     "metadata": {},
     "output_type": "display_data"
    }
   ],
   "source": [
    "sns.boxplot(df, x='y', y='age')"
   ]
  },
  {
   "cell_type": "code",
   "execution_count": 47,
   "id": "e01ae834",
   "metadata": {},
   "outputs": [
    {
     "data": {
      "text/plain": [
       "<AxesSubplot: xlabel='y', ylabel='day'>"
      ]
     },
     "execution_count": 47,
     "metadata": {},
     "output_type": "execute_result"
    },
    {
     "data": {
      "image/png": "[encoded data removed]",
      "text/plain": [
       "<Figure size 640x480 with 1 Axes>"
      ]
     },
     "metadata": {},
     "output_type": "display_data"
    }
   ],
   "source": [
    "sns.boxplot(df, x='y', y='day')"
   ]
  },
  {
   "cell_type": "code",
   "execution_count": 48,
   "id": "fab0ee2c",
   "metadata": {},
   "outputs": [
    {
     "data": {
      "text/plain": [
       "<AxesSubplot: xlabel='y', ylabel='dur'>"
      ]
     },
     "execution_count": 48,
     "metadata": {},
     "output_type": "execute_result"
    },
    {
     "data": {
      "image/png": "[encoded data removed]",
      "text/plain": [
       "<Figure size 640x480 with 1 Axes>"
      ]
     },
     "metadata": {},
     "output_type": "display_data"
    }
   ],
   "source": [
    "sns.boxplot(df, x='y', y='dur')"
   ]
  },
  {
   "cell_type": "code",
   "execution_count": 49,
   "id": "d7aa4b0a",
   "metadata": {},
   "outputs": [
    {
     "data": {
      "text/plain": [
       "<AxesSubplot: xlabel='y', ylabel='num_calls'>"
      ]
     },
     "execution_count": 49,
     "metadata": {},
     "output_type": "execute_result"
    },
    {
     "data": {
      "image/png": "[encoded data removed]",
      "text/plain": [
       "<Figure size 640x480 with 1 Axes>"
      ]
     },
     "metadata": {},
     "output_type": "display_data"
    }
   ],
   "source": [
    "sns.boxplot(df, x='y', y='num_calls')"
   ]
  },
  {
   "cell_type": "markdown",
   "id": "368486d1",
   "metadata": {},
   "source": [
    "## Splitting the Data"
   ]
  },
  {
   "cell_type": "code",
   "execution_count": 50,
   "id": "6fb93203",
   "metadata": {},
   "outputs": [],
   "source": [
    "# Separating the Feature and Target\n",
    "X = df.drop(columns=['y'],axis=1)\n",
    "Y = df['y']"
   ]
  },
  {
   "cell_type": "code",
   "execution_count": 51,
   "id": "baa749a2",
   "metadata": {},
   "outputs": [],
   "source": [
    "#Splitting the data\n",
    "X_train, X_test, Y_train, Y_test = train_test_split(X, Y, test_size=0.2, random_state=2)"
   ]
  },
  {
   "cell_type": "markdown",
   "id": "4a5e4fba",
   "metadata": {},
   "source": [
    "# Balancing the data"
   ]
  },
  {
   "cell_type": "code",
   "execution_count": 52,
   "id": "d907c53d",
   "metadata": {},
   "outputs": [],
   "source": [
    "from imblearn.combine import SMOTEENN\n",
    "smt = SMOTEENN(sampling_strategy='all')\n",
    "X_train, Y_train = smt.fit_resample(X_train, Y_train)"
   ]
  },
  {
   "cell_type": "markdown",
   "id": "fb8a954b",
   "metadata": {},
   "source": [
    "I tried all the approaches to balance the data, Like Random Oversampling, Randing Undersampling, Cluster Centeriods and also also SMOTE. But SOMTEENN Giving the Best AUROC Score out of all other approaches. So the Choose the SMOTEENN for Balancing my data"
   ]
  },
  {
   "cell_type": "code",
   "execution_count": 53,
   "id": "4dbc8cdb",
   "metadata": {},
   "outputs": [
    {
     "name": "stdout",
     "output_type": "stream",
     "text": [
      "(54802, 10) (54802,)\n"
     ]
    }
   ],
   "source": [
    "print(X_train.shape,Y_train.shape)"
   ]
  },
  {
   "cell_type": "code",
   "execution_count": 54,
   "id": "5ed58510",
   "metadata": {},
   "outputs": [],
   "source": [
    "#Scaling the data\n",
    "scaler = StandardScaler()\n",
    "scaler.fit(X_train)\n",
    "X_train = scaler.transform(X_train)\n",
    "X_test = scaler.transform(X_test)"
   ]
  },
  {
   "cell_type": "markdown",
   "id": "8ef216fb",
   "metadata": {},
   "source": [
    "## XGBoost Classifier"
   ]
  },
  {
   "cell_type": "code",
   "execution_count": 55,
   "id": "509eaf09",
   "metadata": {},
   "outputs": [
    {
     "name": "stdout",
     "output_type": "stream",
     "text": [
      "Learning rate :  0.01  Train score :  0.9145469143461917  Cross-Val score :  0.9116273570143443\n",
      "Learning rate :  0.03  Train score :  0.9292544067734754  Cross-Val score :  0.9254407961411484\n",
      "Learning rate :  0.05  Train score :  0.9410605452355754  Cross-Val score :  0.9352216216072244\n",
      "Learning rate :  0.07  Train score :  0.948870479179592  Cross-Val score :  0.9426120360049379\n",
      "Learning rate :  0.09  Train score :  0.9571366008539834  Cross-Val score :  0.9483601379416884\n",
      "Learning rate :  0.1  Train score :  0.9602934199481771  Cross-Val score :  0.9505864019965454\n",
      "Learning rate :  0.2  Train score :  0.9769716433706799  Cross-Val score :  0.9644005702513129\n",
      "Learning rate :  0.5  Train score :  0.9915331557242436  Cross-Val score :  0.9704407095780114\n",
      "Learning rate :  0.75  Train score :  0.9961680230648516  Cross-Val score :  0.970422547965966\n",
      "Learning rate :  1  Train score :  0.9988504069194555  Cross-Val score :  0.9694736828086942\n"
     ]
    }
   ],
   "source": [
    "import xgboost as xgb\n",
    "from sklearn.model_selection import cross_val_score\n",
    "import numpy as np\n",
    "for lr in [0.01,0.03,0.05,0.07,0.09,0.1,0.2,0.5,0.75,1]:\n",
    "  model = xgb.XGBClassifier(objective=\"binary:logistic\", learning_rate = lr, n_estimators=100, verbosity = 0)\n",
    "  model.fit(X_train,Y_train)\n",
    "  model.score(X_test, Y_test)\n",
    "  print(\"Learning rate : \", lr, \" Train score : \", model.score(X_train,Y_train), \" Cross-Val score : \", np.mean(cross_val_score(model, X_train, Y_train, cv=10)))"
   ]
  },
  {
   "cell_type": "code",
   "execution_count": 56,
   "id": "540e4b1c",
   "metadata": {},
   "outputs": [
    {
     "data": {
      "text/html": [
       "<style>#sk-container-id-1 {color: black;background-color: white;}#sk-container-id-1 pre{padding: 0;}#sk-container-id-1 div.sk-toggleable {background-color: white;}#sk-container-id-1 label.sk-toggleable__label {cursor: pointer;display: block;width: 100%;margin-bottom: 0;padding: 0.3em;box-sizing: border-box;text-align: center;}#sk-container-id-1 label.sk-toggleable__label-arrow:before {content: \"▸\";float: left;margin-right: 0.25em;color: #696969;}#sk-container-id-1 label.sk-toggleable__label-arrow:hover:before {color: black;}#sk-container-id-1 div.sk-estimator:hover label.sk-toggleable__label-arrow:before {color: black;}#sk-container-id-1 div.sk-toggleable__content {max-height: 0;max-width: 0;overflow: hidden;text-align: left;background-color: #f0f8ff;}#sk-container-id-1 div.sk-toggleable__content pre {margin: 0.2em;color: black;border-radius: 0.25em;background-color: #f0f8ff;}#sk-container-id-1 input.sk-toggleable__control:checked~div.sk-toggleable__content {max-height: 200px;max-width: 100%;overflow: auto;}#sk-container-id-1 input.sk-toggleable__control:checked~label.sk-toggleable__label-arrow:before {content: \"▾\";}#sk-container-id-1 div.sk-estimator input.sk-toggleable__control:checked~label.sk-toggleable__label {background-color: #d4ebff;}#sk-container-id-1 div.sk-label input.sk-toggleable__control:checked~label.sk-toggleable__label {background-color: #d4ebff;}#sk-container-id-1 input.sk-hidden--visually {border: 0;clip: rect(1px 1px 1px 1px);clip: rect(1px, 1px, 1px, 1px);height: 1px;margin: -1px;overflow: hidden;padding: 0;position: absolute;width: 1px;}#sk-container-id-1 div.sk-estimator {font-family: monospace;background-color: #f0f8ff;border: 1px dotted black;border-radius: 0.25em;box-sizing: border-box;margin-bottom: 0.5em;}#sk-container-id-1 div.sk-estimator:hover {background-color: #d4ebff;}#sk-container-id-1 div.sk-parallel-item::after {content: \"\";width: 100%;border-bottom: 1px solid gray;flex-grow: 1;}#sk-container-id-1 div.sk-label:hover label.sk-toggleable__label {background-color: #d4ebff;}#sk-container-id-1 div.sk-serial::before {content: \"\";position: absolute;border-left: 1px solid gray;box-sizing: border-box;top: 0;bottom: 0;left: 50%;z-index: 0;}#sk-container-id-1 div.sk-serial {display: flex;flex-direction: column;align-items: center;background-color: white;padding-right: 0.2em;padding-left: 0.2em;position: relative;}#sk-container-id-1 div.sk-item {position: relative;z-index: 1;}#sk-container-id-1 div.sk-parallel {display: flex;align-items: stretch;justify-content: center;background-color: white;position: relative;}#sk-container-id-1 div.sk-item::before, #sk-container-id-1 div.sk-parallel-item::before {content: \"\";position: absolute;border-left: 1px solid gray;box-sizing: border-box;top: 0;bottom: 0;left: 50%;z-index: -1;}#sk-container-id-1 div.sk-parallel-item {display: flex;flex-direction: column;z-index: 1;position: relative;background-color: white;}#sk-container-id-1 div.sk-parallel-item:first-child::after {align-self: flex-end;width: 50%;}#sk-container-id-1 div.sk-parallel-item:last-child::after {align-self: flex-start;width: 50%;}#sk-container-id-1 div.sk-parallel-item:only-child::after {width: 0;}#sk-container-id-1 div.sk-dashed-wrapped {border: 1px dashed gray;margin: 0 0.4em 0.5em 0.4em;box-sizing: border-box;padding-bottom: 0.4em;background-color: white;}#sk-container-id-1 div.sk-label label {font-family: monospace;font-weight: bold;display: inline-block;line-height: 1.2em;}#sk-container-id-1 div.sk-label-container {text-align: center;}#sk-container-id-1 div.sk-container {/* jupyter's `normalize.less` sets `[hidden] { display: none; }` but bootstrap.min.css set `[hidden] { display: none !important; }` so we also need the `!important` here to be able to override the default hidden behavior on the sphinx rendered scikit-learn.org. See: https://github.com/scikit-learn/scikit-learn/issues/21755 */display: inline-block !important;position: relative;}#sk-container-id-1 div.sk-text-repr-fallback {display: none;}</style><div id=\"sk-container-id-1\" class=\"sk-top-container\"><div class=\"sk-text-repr-fallback\"><pre>XGBClassifier(base_score=None, booster=None, callbacks=None,\n",
       "              colsample_bylevel=None, colsample_bynode=None,\n",
       "              colsample_bytree=None, early_stopping_rounds=None,\n",
       "              enable_categorical=False, eval_metric=None, feature_types=None,\n",
       "              gamma=None, gpu_id=None, grow_policy=None, importance_type=None,\n",
       "              interaction_constraints=None, learning_rate=0.5, max_bin=None,\n",
       "              max_cat_threshold=None, max_cat_to_onehot=None,\n",
       "              max_delta_step=None, max_depth=None, max_leaves=None,\n",
       "              min_child_weight=None, missing=nan, monotone_constraints=None,\n",
       "              n_estimators=100, n_jobs=None, num_parallel_tree=None,\n",
       "              predictor=None, random_state=None, ...)</pre><b>In a Jupyter environment, please rerun this cell to show the HTML representation or trust the notebook. <br />On GitHub, the HTML representation is unable to render, please try loading this page with nbviewer.org.</b></div><div class=\"sk-container\" hidden><div class=\"sk-item\"><div class=\"sk-estimator sk-toggleable\"><input class=\"sk-toggleable__control sk-hidden--visually\" id=\"sk-estimator-id-1\" type=\"checkbox\" checked><label for=\"sk-estimator-id-1\" class=\"sk-toggleable__label sk-toggleable__label-arrow\">XGBClassifier</label><div class=\"sk-toggleable__content\"><pre>XGBClassifier(base_score=None, booster=None, callbacks=None,\n",
       "              colsample_bylevel=None, colsample_bynode=None,\n",
       "              colsample_bytree=None, early_stopping_rounds=None,\n",
       "              enable_categorical=False, eval_metric=None, feature_types=None,\n",
       "              gamma=None, gpu_id=None, grow_policy=None, importance_type=None,\n",
       "              interaction_constraints=None, learning_rate=0.5, max_bin=None,\n",
       "              max_cat_threshold=None, max_cat_to_onehot=None,\n",
       "              max_delta_step=None, max_depth=None, max_leaves=None,\n",
       "              min_child_weight=None, missing=nan, monotone_constraints=None,\n",
       "              n_estimators=100, n_jobs=None, num_parallel_tree=None,\n",
       "              predictor=None, random_state=None, ...)</pre></div></div></div></div></div>"
      ],
      "text/plain": [
       "XGBClassifier(base_score=None, booster=None, callbacks=None,\n",
       "              colsample_bylevel=None, colsample_bynode=None,\n",
       "              colsample_bytree=None, early_stopping_rounds=None,\n",
       "              enable_categorical=False, eval_metric=None, feature_types=None,\n",
       "              gamma=None, gpu_id=None, grow_policy=None, importance_type=None,\n",
       "              interaction_constraints=None, learning_rate=0.5, max_bin=None,\n",
       "              max_cat_threshold=None, max_cat_to_onehot=None,\n",
       "              max_delta_step=None, max_depth=None, max_leaves=None,\n",
       "              min_child_weight=None, missing=nan, monotone_constraints=None,\n",
       "              n_estimators=100, n_jobs=None, num_parallel_tree=None,\n",
       "              predictor=None, random_state=None, ...)"
      ]
     },
     "execution_count": 56,
     "metadata": {},
     "output_type": "execute_result"
    }
   ],
   "source": [
    "import xgboost as xgb\n",
    "\n",
    "classifier = xgb.XGBClassifier(objective=\"binary:logistic\", learning_rate = 0.5, n_estimators=100, verbosity = 0)\n",
    "classifier.fit(X_train, Y_train)"
   ]
  },
  {
   "cell_type": "code",
   "execution_count": 57,
   "id": "f7846ea4",
   "metadata": {},
   "outputs": [
    {
     "name": "stdout",
     "output_type": "stream",
     "text": [
      "AUROC score: 92.12%\n"
     ]
    }
   ],
   "source": [
    "from sklearn.metrics import roc_auc_score\n",
    "Y_pred = classifier.predict_proba(X_test)[:, 1]\n",
    "auroc = roc_auc_score(Y_test, Y_pred)\n",
    "print(\"AUROC score: %.2f%%\" % (auroc * 100.0))"
   ]
  },
  {
   "cell_type": "markdown",
   "id": "b73488e2",
   "metadata": {},
   "source": [
    "## Feature Importance"
   ]
  },
  {
   "cell_type": "code",
   "execution_count": 58,
   "id": "7ec3cf8c",
   "metadata": {},
   "outputs": [
    {
     "name": "stdout",
     "output_type": "stream",
     "text": [
      "age: 0.059038806706666946\n",
      "job: 0.04023004323244095\n",
      "marital: 0.026338737457990646\n",
      "education_qual: 0.019245458766818047\n",
      "call_type: 0.3008005619049072\n",
      "day: 0.0413818284869194\n",
      "mon: 0.15346434712409973\n",
      "dur: 0.171474426984787\n",
      "num_calls: 0.05665822699666023\n",
      "prev_outcome: 0.13136757910251617\n"
     ]
    }
   ],
   "source": [
    "# Get feature importance scores\n",
    "importances = classifier.feature_importances_\n",
    "feature_names = X.columns\n",
    "\n",
    "# Print the feature importance scores\n",
    "for i, importance in enumerate(importances):\n",
    "    print(\"{}: {}\".format(feature_names[i], importance))"
   ]
  },
  {
   "cell_type": "code",
   "execution_count": 59,
   "id": "e337a99c",
   "metadata": {},
   "outputs": [
    {
     "data": {
      "text/plain": [
       "Text(0.5, 0, 'Xgboost Feature Importance')"
      ]
     },
     "execution_count": 59,
     "metadata": {},
     "output_type": "execute_result"
    },
    {
     "data": {
      "image/png": "[encoded data removed]",
      "text/plain": [
       "<Figure size 640x480 with 1 Axes>"
      ]
     },
     "metadata": {},
     "output_type": "display_data"
    }
   ],
   "source": [
    "sorted_idx = classifier.feature_importances_.argsort()\n",
    "plt.barh(feature_names[sorted_idx], classifier.feature_importances_[sorted_idx])\n",
    "plt.xlabel(\"Xgboost Feature Importance\")"
   ]
  },
  {
   "cell_type": "markdown",
   "id": "eeb30674",
   "metadata": {},
   "source": [
    "## Saving the trained model"
   ]
  },
  {
   "cell_type": "code",
   "execution_count": 60,
   "id": "e88ac120",
   "metadata": {},
   "outputs": [],
   "source": [
    "import pickle"
   ]
  },
  {
   "cell_type": "code",
   "execution_count": 61,
   "id": "f2345c10",
   "metadata": {},
   "outputs": [],
   "source": [
    "filename = 'trained_model.sav'\n",
    "pickle.dump(classifier, open(filename, 'wb'))"
   ]
  },
  {
   "cell_type": "code",
   "execution_count": 62,
   "id": "2560a28a",
   "metadata": {},
   "outputs": [],
   "source": [
    "# loading the saved model\n",
    "loaded_model = pickle.load(open('trained_model.sav', 'rb'))"
   ]
  },
  {
   "cell_type": "code",
   "execution_count": null,
   "id": "ddd8c10e",
   "metadata": {},
   "outputs": [],
   "source": []
  }
 ],
 "metadata": {
  "kernelspec": {
   "display_name": "Python 3 (ipykernel)",
   "language": "python",
   "name": "python3"
  },
  "language_info": {
   "codemirror_mode": {
    "name": "ipython",
    "version": 3
   },
   "file_extension": ".py",
   "mimetype": "text/x-python",
   "name": "python",
   "nbconvert_exporter": "python",
   "pygments_lexer": "ipython3",
   "version": "3.11.0"
  }
 },
 "nbformat": 4,
 "nbformat_minor": 5
}
